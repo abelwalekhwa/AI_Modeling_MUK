{
  "nbformat": 4,
  "nbformat_minor": 0,
  "metadata": {
    "colab": {
      "provenance": [],
      "authorship_tag": "ABX9TyO35SMkgzrSerkMFn39RbQH",
      "include_colab_link": true
    },
    "kernelspec": {
      "name": "python3",
      "display_name": "Python 3"
    },
    "language_info": {
      "name": "python"
    }
  },
  "cells": [
    {
      "cell_type": "markdown",
      "metadata": {
        "id": "view-in-github",
        "colab_type": "text"
      },
      "source": [
        "<a href=\"https://colab.research.google.com/github/abelwalekhwa/AI_Modeling_MUK/blob/main/Practice_Week2_12052023.ipynb\" target=\"_parent\"><img src=\"https://colab.research.google.com/assets/colab-badge.svg\" alt=\"Open In Colab\"/></a>"
      ]
    },
    {
      "cell_type": "code",
      "execution_count": 4,
      "metadata": {
        "colab": {
          "base_uri": "https://localhost:8080/"
        },
        "id": "QWIYE3zilajn",
        "outputId": "6bc794ba-c9bb-4b1b-a351-5ab93883e888"
      },
      "outputs": [
        {
          "output_type": "execute_result",
          "data": {
            "text/plain": [
              "3.141592653589793"
            ]
          },
          "metadata": {},
          "execution_count": 4
        }
      ],
      "source": [
        "# Data Visualization\n",
        "import math as m\n",
        "m.sqrt(48) # Running square root of 48\n",
        "m.pi\n",
        "\n",
        "\n"
      ]
    },
    {
      "cell_type": "code",
      "source": [
        "#Arrays\n",
        "import numpy as np\n",
        "#creating one dimesion array\n",
        "a = np.array([1,2,3], int)\n",
        "print(a)\n"
      ],
      "metadata": {
        "colab": {
          "base_uri": "https://localhost:8080/"
        },
        "id": "HjBW3hCLmHTZ",
        "outputId": "fd827648-17e4-49be-8006-b79f4ce37205"
      },
      "execution_count": 6,
      "outputs": [
        {
          "output_type": "stream",
          "name": "stdout",
          "text": [
            "[1 2 3]\n"
          ]
        }
      ]
    },
    {
      "cell_type": "code",
      "source": [
        "# Creating multi-dimesion array\n",
        "b = np.array([[1,2,3,4],[6,7,8,9]])\n",
        "print(b)"
      ],
      "metadata": {
        "colab": {
          "base_uri": "https://localhost:8080/"
        },
        "id": "fucd_wkbnH-O",
        "outputId": "3596f23a-e850-48ff-8be5-079e04e739f7"
      },
      "execution_count": 7,
      "outputs": [
        {
          "output_type": "stream",
          "name": "stdout",
          "text": [
            "[[1 2 3 4]\n",
            " [6 7 8 9]]\n"
          ]
        }
      ]
    },
    {
      "cell_type": "code",
      "source": [
        "#shapes of array\n",
        "b.shape\n"
      ],
      "metadata": {
        "colab": {
          "base_uri": "https://localhost:8080/"
        },
        "id": "wNUXVM7PnbHR",
        "outputId": "96895366-e1d6-438e-d95d-0e72abfa0ce2"
      },
      "execution_count": 8,
      "outputs": [
        {
          "output_type": "execute_result",
          "data": {
            "text/plain": [
              "(2, 4)"
            ]
          },
          "metadata": {},
          "execution_count": 8
        }
      ]
    },
    {
      "cell_type": "code",
      "source": [
        "#changing the shapes of array\n",
        "b.reshape((4,2))"
      ],
      "metadata": {
        "colab": {
          "base_uri": "https://localhost:8080/"
        },
        "id": "LGYquaK4njT3",
        "outputId": "d03cb410-dcc5-43ff-e955-2d585236afc0"
      },
      "execution_count": 10,
      "outputs": [
        {
          "output_type": "execute_result",
          "data": {
            "text/plain": [
              "array([[1, 2],\n",
              "       [3, 4],\n",
              "       [6, 7],\n",
              "       [8, 9]])"
            ]
          },
          "metadata": {},
          "execution_count": 10
        }
      ]
    },
    {
      "cell_type": "code",
      "source": [
        "#Transpose function\n",
        "b.transpose()"
      ],
      "metadata": {
        "colab": {
          "base_uri": "https://localhost:8080/"
        },
        "id": "XwLv5JsDn1T3",
        "outputId": "75c2eb3a-704a-47c5-cf48-3261ed70c1e1"
      },
      "execution_count": 11,
      "outputs": [
        {
          "output_type": "execute_result",
          "data": {
            "text/plain": [
              "array([[1, 6],\n",
              "       [2, 7],\n",
              "       [3, 8],\n",
              "       [4, 9]])"
            ]
          },
          "metadata": {},
          "execution_count": 11
        }
      ]
    },
    {
      "cell_type": "code",
      "source": [
        "#Array mathematics\n",
        "x= np.array([1,2,3],int)\n",
        "y= np.array([5,6,9],int)\n",
        "x+y"
      ],
      "metadata": {
        "colab": {
          "base_uri": "https://localhost:8080/"
        },
        "id": "rlPdlzX-oPGc",
        "outputId": "e7c09c53-7608-4022-adb6-7bd57f79337c"
      },
      "execution_count": 12,
      "outputs": [
        {
          "output_type": "execute_result",
          "data": {
            "text/plain": [
              "array([ 6,  8, 12])"
            ]
          },
          "metadata": {},
          "execution_count": 12
        }
      ]
    },
    {
      "cell_type": "code",
      "source": [
        "#Array iteraction in x\n",
        "x= np.array([1,2,3],int)\n",
        "for i in x: \n",
        "  print(i)\n"
      ],
      "metadata": {
        "colab": {
          "base_uri": "https://localhost:8080/"
        },
        "id": "Go9LKyCsowrv",
        "outputId": "01810572-671d-4a25-f884-560f68bdb98a"
      },
      "execution_count": 15,
      "outputs": [
        {
          "output_type": "stream",
          "name": "stdout",
          "text": [
            "1\n",
            "2\n",
            "3\n"
          ]
        }
      ]
    },
    {
      "cell_type": "code",
      "source": [
        "#Array items summation\n",
        "x.sum()\n"
      ],
      "metadata": {
        "colab": {
          "base_uri": "https://localhost:8080/"
        },
        "id": "mXLY4gJxpc34",
        "outputId": "8e4277e4-6cee-42d0-8519-7d3e6241e4f9"
      },
      "execution_count": 16,
      "outputs": [
        {
          "output_type": "execute_result",
          "data": {
            "text/plain": [
              "6"
            ]
          },
          "metadata": {},
          "execution_count": 16
        }
      ]
    },
    {
      "cell_type": "code",
      "source": [
        "#Array items product\n",
        "x.prod()\n"
      ],
      "metadata": {
        "colab": {
          "base_uri": "https://localhost:8080/"
        },
        "id": "Iq3ag85hps6d",
        "outputId": "8309793c-8323-4ce6-ccca-2f4df6210b41"
      },
      "execution_count": 17,
      "outputs": [
        {
          "output_type": "execute_result",
          "data": {
            "text/plain": [
              "6"
            ]
          },
          "metadata": {},
          "execution_count": 17
        }
      ]
    },
    {
      "cell_type": "code",
      "source": [
        "#Pandas (Panel Data Library)\n",
        "import pandas as pd\n",
        "a = [1,3,5]\n",
        "print(a)"
      ],
      "metadata": {
        "colab": {
          "base_uri": "https://localhost:8080/"
        },
        "id": "wlKlvVeBpzv1",
        "outputId": "07d87f5f-2049-4b77-b8bc-44e820ff899a"
      },
      "execution_count": 18,
      "outputs": [
        {
          "output_type": "stream",
          "name": "stdout",
          "text": [
            "[1, 3, 5]\n"
          ]
        }
      ]
    },
    {
      "cell_type": "code",
      "source": [
        "#Create data frame\n",
        "dataframe = pd.Series(a)\n",
        "print(dataframe)"
      ],
      "metadata": {
        "colab": {
          "base_uri": "https://localhost:8080/"
        },
        "id": "pJVbTd_xqJXh",
        "outputId": "baa55546-0c4f-4581-ebfa-9bf0be51e631"
      },
      "execution_count": 20,
      "outputs": [
        {
          "output_type": "stream",
          "name": "stdout",
          "text": [
            "0    1\n",
            "1    3\n",
            "2    5\n",
            "dtype: int64\n"
          ]
        }
      ]
    },
    {
      "cell_type": "code",
      "source": [
        "#creating your own index\n",
        "import pandas as pd\n",
        "\n",
        "dataframe = pd.Series(a, index = ['w','x','y'])\n",
        "print(dataframe)"
      ],
      "metadata": {
        "colab": {
          "base_uri": "https://localhost:8080/"
        },
        "id": "2aIWSQSqqglS",
        "outputId": "03a5f67c-e2d9-40de-f572-c88b6da32547"
      },
      "execution_count": 27,
      "outputs": [
        {
          "output_type": "stream",
          "name": "stdout",
          "text": [
            "w    1\n",
            "x    3\n",
            "y    5\n",
            "dtype: int64\n"
          ]
        }
      ]
    },
    {
      "cell_type": "code",
      "source": [
        "data = {\n",
        "    \"Calories\" : [429, 349, 679],\n",
        "    \"Duration\" : [69, 40, 50]\n",
        "}\n",
        "df = pd.DataFrame(data, index =[\"Day1\", \"Day2\", \"Day3\"])\n",
        "print(df)"
      ],
      "metadata": {
        "colab": {
          "base_uri": "https://localhost:8080/"
        },
        "id": "UnAXr6vTreaD",
        "outputId": "6c4e2b97-798a-4334-dd89-c25be26c20ec"
      },
      "execution_count": 30,
      "outputs": [
        {
          "output_type": "stream",
          "name": "stdout",
          "text": [
            "      Calories  Duration\n",
            "Day1       429        69\n",
            "Day2       349        40\n",
            "Day3       679        50\n"
          ]
        }
      ]
    },
    {
      "cell_type": "code",
      "source": [
        "import pandas as pd\n",
        "\n",
        "df = pd.read_excel(\"Career_Analysis.xlsx\")\n",
        "print(df)\n"
      ],
      "metadata": {
        "colab": {
          "base_uri": "https://localhost:8080/"
        },
        "id": "JW6r1scOzYq3",
        "outputId": "cc175985-c7b7-4139-ee31-664592268e7f"
      },
      "execution_count": 31,
      "outputs": [
        {
          "output_type": "stream",
          "name": "stdout",
          "text": [
            "       age  gender    district     current education proposedstudy   \\\n",
            "0    26-35  Female     Soroti              Bachelors        Masters   \n",
            "1    19-25    Male     Kibuku               Diploma       Bachelors   \n",
            "2    19-25  Female      Soroti             Bachelors        Masters   \n",
            "3    36-45  Female     Soroti                Masters            PhD   \n",
            "4    19-25  Female  Kyankwanzi  Advanced High School      Bachelors   \n",
            "..     ...     ...         ...                   ...            ...   \n",
            "213  36-45  Female      Wakiso               Diploma      Bachelors   \n",
            "214  36-45  Female     Masaka               Diploma       Bachelors   \n",
            "215  19-25    Male      Wakiso  Advanced High School      Bachelors   \n",
            "216  36-45  Female      Manafw        HighervDiploma            PhD   \n",
            "217  26-35    Male     Iganga              Bachelors            PhD   \n",
            "\n",
            "                                          field_study wanting_consultation  \\\n",
            "0                             Information management                   Yes   \n",
            "1    Science, Technology, Engineering and Mathematics                  Yes   \n",
            "2    Science, Technology, Engineering and Mathematics                  Yes   \n",
            "3    Science, Technology, Engineering and Mathematics                  Yes   \n",
            "4    Science, Technology, Engineering and Mathematics                  Yes   \n",
            "..                                                ...                  ...   \n",
            "213  Science, Technology, Engineering and Mathematics                  Yes   \n",
            "214  Science, Technology, Engineering and Mathematics                  Yes   \n",
            "215  Science, Technology, Engineering and Mathematics                  Yes   \n",
            "216  Science, Technology, Engineering and Mathematics                  Yes   \n",
            "217  Science, Technology, Engineering and Mathematics                  Yes   \n",
            "\n",
            "    where_guidance             person_asked career_mentor  \\\n",
            "0               No                     None           Yes   \n",
            "1              Yes                A friend             No   \n",
            "2               No                   Parent            No   \n",
            "3            Maybe                   Mentor           Yes   \n",
            "4               No     People at university            No   \n",
            "..             ...                      ...           ...   \n",
            "213             No   Friends and colleagues            No   \n",
            "214            Yes                   Mentor           Yes   \n",
            "215            Yes                  Teacher            No   \n",
            "216             No  Boss/Supervisor at work            No   \n",
            "217            Yes                   Mentor            No   \n",
            "\n",
            "                                    most_inquiry  \\\n",
            "0                      What course to study next   \n",
            "1           Which University/institution to join   \n",
            "2                      What course to study next   \n",
            "3    Guidance on how to process PhD scholarship    \n",
            "4                          How do I achieve this   \n",
            "..                                           ...   \n",
            "213         Which University/institution to join   \n",
            "214                      Improving on my career    \n",
            "215                    What course to study next   \n",
            "216                    What course to study next   \n",
            "217             What research topic to undertake   \n",
            "\n",
            "                        where_study most_worried  \\\n",
            "0    International (United Kingdom)      Funding   \n",
            "1    International (United Kingdom)      Funding   \n",
            "2             Home country (Uganda)      Funding   \n",
            "3    International (United Kingdom)      Funding   \n",
            "4               International (USA)      Funding   \n",
            "..                              ...          ...   \n",
            "213           Home country (Uganda)      Funding   \n",
            "214  International (United Kingdom)      Funding   \n",
            "215  International (United Kingdom)      Funding   \n",
            "216             International (USA)      Funding   \n",
            "217           Home country (Uganda)      Funding   \n",
            "\n",
            "                                     biggest_challenge  \\\n",
            "0                                  How to write essays   \n",
            "1                                  How to write essays   \n",
            "2                                  How to write essays   \n",
            "3    How to find credible information sources (call...   \n",
            "4    How to find credible information sources (call...   \n",
            "..                                                 ...   \n",
            "213  How to find credible information sources (call...   \n",
            "214  Where to find resources/templates to consult with   \n",
            "215  How to find credible information sources (call...   \n",
            "216  How to find credible information sources (call...   \n",
            "217                                How to write essays   \n",
            "\n",
            "                      exact_skills previousinternational_application  \\\n",
            "0              Why I want to study                                No   \n",
            "1      How to articulate my skills                                No   \n",
            "2                       CV writing                                No   \n",
            "3              Why I want to study                                No   \n",
            "4            Structuring of essays                             Maybe   \n",
            "..                             ...                               ...   \n",
            "213  Drafting a Personal Statement                               Yes   \n",
            "214    How to articulate my skills                                No   \n",
            "215                     CV writing                                No   \n",
            "216  Drafting a Personal Statement                               Yes   \n",
            "217  Drafting a Personal Statement                                No   \n",
            "\n",
            "    prefered_platfom                               setback_scholarships  \\\n",
            "0               zoom  I do not have someone to guide me on how to apply   \n",
            "1               zoom                    Complicated application process   \n",
            "2               zoom  I do not have someone to guide me on how to apply   \n",
            "3               zoom     Getting information about scholarships/funding   \n",
            "4           Whatsapp  I do not have someone to guide me on how to apply   \n",
            "..               ...                                                ...   \n",
            "213         Whatsapp     Getting information about scholarships/funding   \n",
            "214         Whatsapp     Getting information about scholarships/funding   \n",
            "215         Whatsapp                    Complicated application process   \n",
            "216             zoom                                 Access to internet   \n",
            "217             zoom                    Complicated application process   \n",
            "\n",
            "                             reason_abroadstudy  \n",
            "0    To diversify the social network of friends  \n",
            "1    To diversify the social network of friends  \n",
            "2                            To get jobs abroad  \n",
            "3    To diversify the social network of friends  \n",
            "4                No funding for further studies  \n",
            "..                                          ...  \n",
            "213  To diversify the social network of friends  \n",
            "214  To diversify the social network of friends  \n",
            "215              No funding for further studies  \n",
            "216                          To get jobs abroad  \n",
            "217  To diversify the social network of friends  \n",
            "\n",
            "[218 rows x 19 columns]\n"
          ]
        }
      ]
    },
    {
      "cell_type": "code",
      "source": [
        "df.head()"
      ],
      "metadata": {
        "colab": {
          "base_uri": "https://localhost:8080/",
          "height": 600
        },
        "id": "0dBAzIf5Wlf7",
        "outputId": "11826139-61c6-406e-846a-c2e65537826b"
      },
      "execution_count": 33,
      "outputs": [
        {
          "output_type": "execute_result",
          "data": {
            "text/plain": [
              "     age  gender    district     current education proposedstudy   \\\n",
              "0  26-35  Female     Soroti              Bachelors        Masters   \n",
              "1  19-25    Male     Kibuku               Diploma       Bachelors   \n",
              "2  19-25  Female      Soroti             Bachelors        Masters   \n",
              "3  36-45  Female     Soroti                Masters            PhD   \n",
              "4  19-25  Female  Kyankwanzi  Advanced High School      Bachelors   \n",
              "\n",
              "                                        field_study wanting_consultation  \\\n",
              "0                           Information management                   Yes   \n",
              "1  Science, Technology, Engineering and Mathematics                  Yes   \n",
              "2  Science, Technology, Engineering and Mathematics                  Yes   \n",
              "3  Science, Technology, Engineering and Mathematics                  Yes   \n",
              "4  Science, Technology, Engineering and Mathematics                  Yes   \n",
              "\n",
              "  where_guidance          person_asked career_mentor  \\\n",
              "0             No                  None           Yes   \n",
              "1            Yes             A friend             No   \n",
              "2             No                Parent            No   \n",
              "3          Maybe                Mentor           Yes   \n",
              "4             No  People at university            No   \n",
              "\n",
              "                                  most_inquiry  \\\n",
              "0                    What course to study next   \n",
              "1         Which University/institution to join   \n",
              "2                    What course to study next   \n",
              "3  Guidance on how to process PhD scholarship    \n",
              "4                        How do I achieve this   \n",
              "\n",
              "                      where_study most_worried  \\\n",
              "0  International (United Kingdom)      Funding   \n",
              "1  International (United Kingdom)      Funding   \n",
              "2           Home country (Uganda)      Funding   \n",
              "3  International (United Kingdom)      Funding   \n",
              "4             International (USA)      Funding   \n",
              "\n",
              "                                   biggest_challenge  \\\n",
              "0                                How to write essays   \n",
              "1                                How to write essays   \n",
              "2                                How to write essays   \n",
              "3  How to find credible information sources (call...   \n",
              "4  How to find credible information sources (call...   \n",
              "\n",
              "                  exact_skills previousinternational_application  \\\n",
              "0          Why I want to study                                No   \n",
              "1  How to articulate my skills                                No   \n",
              "2                   CV writing                                No   \n",
              "3          Why I want to study                                No   \n",
              "4        Structuring of essays                             Maybe   \n",
              "\n",
              "  prefered_platfom                               setback_scholarships  \\\n",
              "0             zoom  I do not have someone to guide me on how to apply   \n",
              "1             zoom                    Complicated application process   \n",
              "2             zoom  I do not have someone to guide me on how to apply   \n",
              "3             zoom     Getting information about scholarships/funding   \n",
              "4         Whatsapp  I do not have someone to guide me on how to apply   \n",
              "\n",
              "                           reason_abroadstudy  \n",
              "0  To diversify the social network of friends  \n",
              "1  To diversify the social network of friends  \n",
              "2                          To get jobs abroad  \n",
              "3  To diversify the social network of friends  \n",
              "4              No funding for further studies  "
            ],
            "text/html": [
              "\n",
              "  <div id=\"df-a36a4f6c-5af5-4063-ad44-f0d67a9f46cf\">\n",
              "    <div class=\"colab-df-container\">\n",
              "      <div>\n",
              "<style scoped>\n",
              "    .dataframe tbody tr th:only-of-type {\n",
              "        vertical-align: middle;\n",
              "    }\n",
              "\n",
              "    .dataframe tbody tr th {\n",
              "        vertical-align: top;\n",
              "    }\n",
              "\n",
              "    .dataframe thead th {\n",
              "        text-align: right;\n",
              "    }\n",
              "</style>\n",
              "<table border=\"1\" class=\"dataframe\">\n",
              "  <thead>\n",
              "    <tr style=\"text-align: right;\">\n",
              "      <th></th>\n",
              "      <th>age</th>\n",
              "      <th>gender</th>\n",
              "      <th>district</th>\n",
              "      <th>current education</th>\n",
              "      <th>proposedstudy</th>\n",
              "      <th>field_study</th>\n",
              "      <th>wanting_consultation</th>\n",
              "      <th>where_guidance</th>\n",
              "      <th>person_asked</th>\n",
              "      <th>career_mentor</th>\n",
              "      <th>most_inquiry</th>\n",
              "      <th>where_study</th>\n",
              "      <th>most_worried</th>\n",
              "      <th>biggest_challenge</th>\n",
              "      <th>exact_skills</th>\n",
              "      <th>previousinternational_application</th>\n",
              "      <th>prefered_platfom</th>\n",
              "      <th>setback_scholarships</th>\n",
              "      <th>reason_abroadstudy</th>\n",
              "    </tr>\n",
              "  </thead>\n",
              "  <tbody>\n",
              "    <tr>\n",
              "      <th>0</th>\n",
              "      <td>26-35</td>\n",
              "      <td>Female</td>\n",
              "      <td>Soroti</td>\n",
              "      <td>Bachelors</td>\n",
              "      <td>Masters</td>\n",
              "      <td>Information management</td>\n",
              "      <td>Yes</td>\n",
              "      <td>No</td>\n",
              "      <td>None</td>\n",
              "      <td>Yes</td>\n",
              "      <td>What course to study next</td>\n",
              "      <td>International (United Kingdom)</td>\n",
              "      <td>Funding</td>\n",
              "      <td>How to write essays</td>\n",
              "      <td>Why I want to study</td>\n",
              "      <td>No</td>\n",
              "      <td>zoom</td>\n",
              "      <td>I do not have someone to guide me on how to apply</td>\n",
              "      <td>To diversify the social network of friends</td>\n",
              "    </tr>\n",
              "    <tr>\n",
              "      <th>1</th>\n",
              "      <td>19-25</td>\n",
              "      <td>Male</td>\n",
              "      <td>Kibuku</td>\n",
              "      <td>Diploma</td>\n",
              "      <td>Bachelors</td>\n",
              "      <td>Science, Technology, Engineering and Mathematics</td>\n",
              "      <td>Yes</td>\n",
              "      <td>Yes</td>\n",
              "      <td>A friend</td>\n",
              "      <td>No</td>\n",
              "      <td>Which University/institution to join</td>\n",
              "      <td>International (United Kingdom)</td>\n",
              "      <td>Funding</td>\n",
              "      <td>How to write essays</td>\n",
              "      <td>How to articulate my skills</td>\n",
              "      <td>No</td>\n",
              "      <td>zoom</td>\n",
              "      <td>Complicated application process</td>\n",
              "      <td>To diversify the social network of friends</td>\n",
              "    </tr>\n",
              "    <tr>\n",
              "      <th>2</th>\n",
              "      <td>19-25</td>\n",
              "      <td>Female</td>\n",
              "      <td>Soroti</td>\n",
              "      <td>Bachelors</td>\n",
              "      <td>Masters</td>\n",
              "      <td>Science, Technology, Engineering and Mathematics</td>\n",
              "      <td>Yes</td>\n",
              "      <td>No</td>\n",
              "      <td>Parent</td>\n",
              "      <td>No</td>\n",
              "      <td>What course to study next</td>\n",
              "      <td>Home country (Uganda)</td>\n",
              "      <td>Funding</td>\n",
              "      <td>How to write essays</td>\n",
              "      <td>CV writing</td>\n",
              "      <td>No</td>\n",
              "      <td>zoom</td>\n",
              "      <td>I do not have someone to guide me on how to apply</td>\n",
              "      <td>To get jobs abroad</td>\n",
              "    </tr>\n",
              "    <tr>\n",
              "      <th>3</th>\n",
              "      <td>36-45</td>\n",
              "      <td>Female</td>\n",
              "      <td>Soroti</td>\n",
              "      <td>Masters</td>\n",
              "      <td>PhD</td>\n",
              "      <td>Science, Technology, Engineering and Mathematics</td>\n",
              "      <td>Yes</td>\n",
              "      <td>Maybe</td>\n",
              "      <td>Mentor</td>\n",
              "      <td>Yes</td>\n",
              "      <td>Guidance on how to process PhD scholarship</td>\n",
              "      <td>International (United Kingdom)</td>\n",
              "      <td>Funding</td>\n",
              "      <td>How to find credible information sources (call...</td>\n",
              "      <td>Why I want to study</td>\n",
              "      <td>No</td>\n",
              "      <td>zoom</td>\n",
              "      <td>Getting information about scholarships/funding</td>\n",
              "      <td>To diversify the social network of friends</td>\n",
              "    </tr>\n",
              "    <tr>\n",
              "      <th>4</th>\n",
              "      <td>19-25</td>\n",
              "      <td>Female</td>\n",
              "      <td>Kyankwanzi</td>\n",
              "      <td>Advanced High School</td>\n",
              "      <td>Bachelors</td>\n",
              "      <td>Science, Technology, Engineering and Mathematics</td>\n",
              "      <td>Yes</td>\n",
              "      <td>No</td>\n",
              "      <td>People at university</td>\n",
              "      <td>No</td>\n",
              "      <td>How do I achieve this</td>\n",
              "      <td>International (USA)</td>\n",
              "      <td>Funding</td>\n",
              "      <td>How to find credible information sources (call...</td>\n",
              "      <td>Structuring of essays</td>\n",
              "      <td>Maybe</td>\n",
              "      <td>Whatsapp</td>\n",
              "      <td>I do not have someone to guide me on how to apply</td>\n",
              "      <td>No funding for further studies</td>\n",
              "    </tr>\n",
              "  </tbody>\n",
              "</table>\n",
              "</div>\n",
              "      <button class=\"colab-df-convert\" onclick=\"convertToInteractive('df-a36a4f6c-5af5-4063-ad44-f0d67a9f46cf')\"\n",
              "              title=\"Convert this dataframe to an interactive table.\"\n",
              "              style=\"display:none;\">\n",
              "        \n",
              "  <svg xmlns=\"http://www.w3.org/2000/svg\" height=\"24px\"viewBox=\"0 0 24 24\"\n",
              "       width=\"24px\">\n",
              "    <path d=\"M0 0h24v24H0V0z\" fill=\"none\"/>\n",
              "    <path d=\"M18.56 5.44l.94 2.06.94-2.06 2.06-.94-2.06-.94-.94-2.06-.94 2.06-2.06.94zm-11 1L8.5 8.5l.94-2.06 2.06-.94-2.06-.94L8.5 2.5l-.94 2.06-2.06.94zm10 10l.94 2.06.94-2.06 2.06-.94-2.06-.94-.94-2.06-.94 2.06-2.06.94z\"/><path d=\"M17.41 7.96l-1.37-1.37c-.4-.4-.92-.59-1.43-.59-.52 0-1.04.2-1.43.59L10.3 9.45l-7.72 7.72c-.78.78-.78 2.05 0 2.83L4 21.41c.39.39.9.59 1.41.59.51 0 1.02-.2 1.41-.59l7.78-7.78 2.81-2.81c.8-.78.8-2.07 0-2.86zM5.41 20L4 18.59l7.72-7.72 1.47 1.35L5.41 20z\"/>\n",
              "  </svg>\n",
              "      </button>\n",
              "      \n",
              "  <style>\n",
              "    .colab-df-container {\n",
              "      display:flex;\n",
              "      flex-wrap:wrap;\n",
              "      gap: 12px;\n",
              "    }\n",
              "\n",
              "    .colab-df-convert {\n",
              "      background-color: #E8F0FE;\n",
              "      border: none;\n",
              "      border-radius: 50%;\n",
              "      cursor: pointer;\n",
              "      display: none;\n",
              "      fill: #1967D2;\n",
              "      height: 32px;\n",
              "      padding: 0 0 0 0;\n",
              "      width: 32px;\n",
              "    }\n",
              "\n",
              "    .colab-df-convert:hover {\n",
              "      background-color: #E2EBFA;\n",
              "      box-shadow: 0px 1px 2px rgba(60, 64, 67, 0.3), 0px 1px 3px 1px rgba(60, 64, 67, 0.15);\n",
              "      fill: #174EA6;\n",
              "    }\n",
              "\n",
              "    [theme=dark] .colab-df-convert {\n",
              "      background-color: #3B4455;\n",
              "      fill: #D2E3FC;\n",
              "    }\n",
              "\n",
              "    [theme=dark] .colab-df-convert:hover {\n",
              "      background-color: #434B5C;\n",
              "      box-shadow: 0px 1px 3px 1px rgba(0, 0, 0, 0.15);\n",
              "      filter: drop-shadow(0px 1px 2px rgba(0, 0, 0, 0.3));\n",
              "      fill: #FFFFFF;\n",
              "    }\n",
              "  </style>\n",
              "\n",
              "      <script>\n",
              "        const buttonEl =\n",
              "          document.querySelector('#df-a36a4f6c-5af5-4063-ad44-f0d67a9f46cf button.colab-df-convert');\n",
              "        buttonEl.style.display =\n",
              "          google.colab.kernel.accessAllowed ? 'block' : 'none';\n",
              "\n",
              "        async function convertToInteractive(key) {\n",
              "          const element = document.querySelector('#df-a36a4f6c-5af5-4063-ad44-f0d67a9f46cf');\n",
              "          const dataTable =\n",
              "            await google.colab.kernel.invokeFunction('convertToInteractive',\n",
              "                                                     [key], {});\n",
              "          if (!dataTable) return;\n",
              "\n",
              "          const docLinkHtml = 'Like what you see? Visit the ' +\n",
              "            '<a target=\"_blank\" href=https://colab.research.google.com/notebooks/data_table.ipynb>data table notebook</a>'\n",
              "            + ' to learn more about interactive tables.';\n",
              "          element.innerHTML = '';\n",
              "          dataTable['output_type'] = 'display_data';\n",
              "          await google.colab.output.renderOutput(dataTable, element);\n",
              "          const docLink = document.createElement('div');\n",
              "          docLink.innerHTML = docLinkHtml;\n",
              "          element.appendChild(docLink);\n",
              "        }\n",
              "      </script>\n",
              "    </div>\n",
              "  </div>\n",
              "  "
            ]
          },
          "metadata": {},
          "execution_count": 33
        }
      ]
    },
    {
      "cell_type": "code",
      "source": [
        "df.tail()\n"
      ],
      "metadata": {
        "colab": {
          "base_uri": "https://localhost:8080/",
          "height": 635
        },
        "id": "HuCsU6rCWxvQ",
        "outputId": "0c56af3e-9a84-492c-a922-43e01ac59dde"
      },
      "execution_count": 34,
      "outputs": [
        {
          "output_type": "execute_result",
          "data": {
            "text/plain": [
              "       age  gender district     current education proposedstudy   \\\n",
              "213  36-45  Female   Wakiso               Diploma      Bachelors   \n",
              "214  36-45  Female  Masaka               Diploma       Bachelors   \n",
              "215  19-25    Male   Wakiso  Advanced High School      Bachelors   \n",
              "216  36-45  Female   Manafw        HighervDiploma            PhD   \n",
              "217  26-35    Male  Iganga              Bachelors            PhD   \n",
              "\n",
              "                                          field_study wanting_consultation  \\\n",
              "213  Science, Technology, Engineering and Mathematics                  Yes   \n",
              "214  Science, Technology, Engineering and Mathematics                  Yes   \n",
              "215  Science, Technology, Engineering and Mathematics                  Yes   \n",
              "216  Science, Technology, Engineering and Mathematics                  Yes   \n",
              "217  Science, Technology, Engineering and Mathematics                  Yes   \n",
              "\n",
              "    where_guidance             person_asked career_mentor  \\\n",
              "213             No   Friends and colleagues            No   \n",
              "214            Yes                   Mentor           Yes   \n",
              "215            Yes                  Teacher            No   \n",
              "216             No  Boss/Supervisor at work            No   \n",
              "217            Yes                   Mentor            No   \n",
              "\n",
              "                             most_inquiry                     where_study  \\\n",
              "213  Which University/institution to join           Home country (Uganda)   \n",
              "214               Improving on my career   International (United Kingdom)   \n",
              "215             What course to study next  International (United Kingdom)   \n",
              "216             What course to study next             International (USA)   \n",
              "217      What research topic to undertake           Home country (Uganda)   \n",
              "\n",
              "    most_worried                                  biggest_challenge  \\\n",
              "213      Funding  How to find credible information sources (call...   \n",
              "214      Funding  Where to find resources/templates to consult with   \n",
              "215      Funding  How to find credible information sources (call...   \n",
              "216      Funding  How to find credible information sources (call...   \n",
              "217      Funding                                How to write essays   \n",
              "\n",
              "                      exact_skills previousinternational_application  \\\n",
              "213  Drafting a Personal Statement                               Yes   \n",
              "214    How to articulate my skills                                No   \n",
              "215                     CV writing                                No   \n",
              "216  Drafting a Personal Statement                               Yes   \n",
              "217  Drafting a Personal Statement                                No   \n",
              "\n",
              "    prefered_platfom                            setback_scholarships  \\\n",
              "213         Whatsapp  Getting information about scholarships/funding   \n",
              "214         Whatsapp  Getting information about scholarships/funding   \n",
              "215         Whatsapp                 Complicated application process   \n",
              "216             zoom                              Access to internet   \n",
              "217             zoom                 Complicated application process   \n",
              "\n",
              "                             reason_abroadstudy  \n",
              "213  To diversify the social network of friends  \n",
              "214  To diversify the social network of friends  \n",
              "215              No funding for further studies  \n",
              "216                          To get jobs abroad  \n",
              "217  To diversify the social network of friends  "
            ],
            "text/html": [
              "\n",
              "  <div id=\"df-18a45948-5d72-4112-8e6a-d3f9f011c6cf\">\n",
              "    <div class=\"colab-df-container\">\n",
              "      <div>\n",
              "<style scoped>\n",
              "    .dataframe tbody tr th:only-of-type {\n",
              "        vertical-align: middle;\n",
              "    }\n",
              "\n",
              "    .dataframe tbody tr th {\n",
              "        vertical-align: top;\n",
              "    }\n",
              "\n",
              "    .dataframe thead th {\n",
              "        text-align: right;\n",
              "    }\n",
              "</style>\n",
              "<table border=\"1\" class=\"dataframe\">\n",
              "  <thead>\n",
              "    <tr style=\"text-align: right;\">\n",
              "      <th></th>\n",
              "      <th>age</th>\n",
              "      <th>gender</th>\n",
              "      <th>district</th>\n",
              "      <th>current education</th>\n",
              "      <th>proposedstudy</th>\n",
              "      <th>field_study</th>\n",
              "      <th>wanting_consultation</th>\n",
              "      <th>where_guidance</th>\n",
              "      <th>person_asked</th>\n",
              "      <th>career_mentor</th>\n",
              "      <th>most_inquiry</th>\n",
              "      <th>where_study</th>\n",
              "      <th>most_worried</th>\n",
              "      <th>biggest_challenge</th>\n",
              "      <th>exact_skills</th>\n",
              "      <th>previousinternational_application</th>\n",
              "      <th>prefered_platfom</th>\n",
              "      <th>setback_scholarships</th>\n",
              "      <th>reason_abroadstudy</th>\n",
              "    </tr>\n",
              "  </thead>\n",
              "  <tbody>\n",
              "    <tr>\n",
              "      <th>213</th>\n",
              "      <td>36-45</td>\n",
              "      <td>Female</td>\n",
              "      <td>Wakiso</td>\n",
              "      <td>Diploma</td>\n",
              "      <td>Bachelors</td>\n",
              "      <td>Science, Technology, Engineering and Mathematics</td>\n",
              "      <td>Yes</td>\n",
              "      <td>No</td>\n",
              "      <td>Friends and colleagues</td>\n",
              "      <td>No</td>\n",
              "      <td>Which University/institution to join</td>\n",
              "      <td>Home country (Uganda)</td>\n",
              "      <td>Funding</td>\n",
              "      <td>How to find credible information sources (call...</td>\n",
              "      <td>Drafting a Personal Statement</td>\n",
              "      <td>Yes</td>\n",
              "      <td>Whatsapp</td>\n",
              "      <td>Getting information about scholarships/funding</td>\n",
              "      <td>To diversify the social network of friends</td>\n",
              "    </tr>\n",
              "    <tr>\n",
              "      <th>214</th>\n",
              "      <td>36-45</td>\n",
              "      <td>Female</td>\n",
              "      <td>Masaka</td>\n",
              "      <td>Diploma</td>\n",
              "      <td>Bachelors</td>\n",
              "      <td>Science, Technology, Engineering and Mathematics</td>\n",
              "      <td>Yes</td>\n",
              "      <td>Yes</td>\n",
              "      <td>Mentor</td>\n",
              "      <td>Yes</td>\n",
              "      <td>Improving on my career</td>\n",
              "      <td>International (United Kingdom)</td>\n",
              "      <td>Funding</td>\n",
              "      <td>Where to find resources/templates to consult with</td>\n",
              "      <td>How to articulate my skills</td>\n",
              "      <td>No</td>\n",
              "      <td>Whatsapp</td>\n",
              "      <td>Getting information about scholarships/funding</td>\n",
              "      <td>To diversify the social network of friends</td>\n",
              "    </tr>\n",
              "    <tr>\n",
              "      <th>215</th>\n",
              "      <td>19-25</td>\n",
              "      <td>Male</td>\n",
              "      <td>Wakiso</td>\n",
              "      <td>Advanced High School</td>\n",
              "      <td>Bachelors</td>\n",
              "      <td>Science, Technology, Engineering and Mathematics</td>\n",
              "      <td>Yes</td>\n",
              "      <td>Yes</td>\n",
              "      <td>Teacher</td>\n",
              "      <td>No</td>\n",
              "      <td>What course to study next</td>\n",
              "      <td>International (United Kingdom)</td>\n",
              "      <td>Funding</td>\n",
              "      <td>How to find credible information sources (call...</td>\n",
              "      <td>CV writing</td>\n",
              "      <td>No</td>\n",
              "      <td>Whatsapp</td>\n",
              "      <td>Complicated application process</td>\n",
              "      <td>No funding for further studies</td>\n",
              "    </tr>\n",
              "    <tr>\n",
              "      <th>216</th>\n",
              "      <td>36-45</td>\n",
              "      <td>Female</td>\n",
              "      <td>Manafw</td>\n",
              "      <td>HighervDiploma</td>\n",
              "      <td>PhD</td>\n",
              "      <td>Science, Technology, Engineering and Mathematics</td>\n",
              "      <td>Yes</td>\n",
              "      <td>No</td>\n",
              "      <td>Boss/Supervisor at work</td>\n",
              "      <td>No</td>\n",
              "      <td>What course to study next</td>\n",
              "      <td>International (USA)</td>\n",
              "      <td>Funding</td>\n",
              "      <td>How to find credible information sources (call...</td>\n",
              "      <td>Drafting a Personal Statement</td>\n",
              "      <td>Yes</td>\n",
              "      <td>zoom</td>\n",
              "      <td>Access to internet</td>\n",
              "      <td>To get jobs abroad</td>\n",
              "    </tr>\n",
              "    <tr>\n",
              "      <th>217</th>\n",
              "      <td>26-35</td>\n",
              "      <td>Male</td>\n",
              "      <td>Iganga</td>\n",
              "      <td>Bachelors</td>\n",
              "      <td>PhD</td>\n",
              "      <td>Science, Technology, Engineering and Mathematics</td>\n",
              "      <td>Yes</td>\n",
              "      <td>Yes</td>\n",
              "      <td>Mentor</td>\n",
              "      <td>No</td>\n",
              "      <td>What research topic to undertake</td>\n",
              "      <td>Home country (Uganda)</td>\n",
              "      <td>Funding</td>\n",
              "      <td>How to write essays</td>\n",
              "      <td>Drafting a Personal Statement</td>\n",
              "      <td>No</td>\n",
              "      <td>zoom</td>\n",
              "      <td>Complicated application process</td>\n",
              "      <td>To diversify the social network of friends</td>\n",
              "    </tr>\n",
              "  </tbody>\n",
              "</table>\n",
              "</div>\n",
              "      <button class=\"colab-df-convert\" onclick=\"convertToInteractive('df-18a45948-5d72-4112-8e6a-d3f9f011c6cf')\"\n",
              "              title=\"Convert this dataframe to an interactive table.\"\n",
              "              style=\"display:none;\">\n",
              "        \n",
              "  <svg xmlns=\"http://www.w3.org/2000/svg\" height=\"24px\"viewBox=\"0 0 24 24\"\n",
              "       width=\"24px\">\n",
              "    <path d=\"M0 0h24v24H0V0z\" fill=\"none\"/>\n",
              "    <path d=\"M18.56 5.44l.94 2.06.94-2.06 2.06-.94-2.06-.94-.94-2.06-.94 2.06-2.06.94zm-11 1L8.5 8.5l.94-2.06 2.06-.94-2.06-.94L8.5 2.5l-.94 2.06-2.06.94zm10 10l.94 2.06.94-2.06 2.06-.94-2.06-.94-.94-2.06-.94 2.06-2.06.94z\"/><path d=\"M17.41 7.96l-1.37-1.37c-.4-.4-.92-.59-1.43-.59-.52 0-1.04.2-1.43.59L10.3 9.45l-7.72 7.72c-.78.78-.78 2.05 0 2.83L4 21.41c.39.39.9.59 1.41.59.51 0 1.02-.2 1.41-.59l7.78-7.78 2.81-2.81c.8-.78.8-2.07 0-2.86zM5.41 20L4 18.59l7.72-7.72 1.47 1.35L5.41 20z\"/>\n",
              "  </svg>\n",
              "      </button>\n",
              "      \n",
              "  <style>\n",
              "    .colab-df-container {\n",
              "      display:flex;\n",
              "      flex-wrap:wrap;\n",
              "      gap: 12px;\n",
              "    }\n",
              "\n",
              "    .colab-df-convert {\n",
              "      background-color: #E8F0FE;\n",
              "      border: none;\n",
              "      border-radius: 50%;\n",
              "      cursor: pointer;\n",
              "      display: none;\n",
              "      fill: #1967D2;\n",
              "      height: 32px;\n",
              "      padding: 0 0 0 0;\n",
              "      width: 32px;\n",
              "    }\n",
              "\n",
              "    .colab-df-convert:hover {\n",
              "      background-color: #E2EBFA;\n",
              "      box-shadow: 0px 1px 2px rgba(60, 64, 67, 0.3), 0px 1px 3px 1px rgba(60, 64, 67, 0.15);\n",
              "      fill: #174EA6;\n",
              "    }\n",
              "\n",
              "    [theme=dark] .colab-df-convert {\n",
              "      background-color: #3B4455;\n",
              "      fill: #D2E3FC;\n",
              "    }\n",
              "\n",
              "    [theme=dark] .colab-df-convert:hover {\n",
              "      background-color: #434B5C;\n",
              "      box-shadow: 0px 1px 3px 1px rgba(0, 0, 0, 0.15);\n",
              "      filter: drop-shadow(0px 1px 2px rgba(0, 0, 0, 0.3));\n",
              "      fill: #FFFFFF;\n",
              "    }\n",
              "  </style>\n",
              "\n",
              "      <script>\n",
              "        const buttonEl =\n",
              "          document.querySelector('#df-18a45948-5d72-4112-8e6a-d3f9f011c6cf button.colab-df-convert');\n",
              "        buttonEl.style.display =\n",
              "          google.colab.kernel.accessAllowed ? 'block' : 'none';\n",
              "\n",
              "        async function convertToInteractive(key) {\n",
              "          const element = document.querySelector('#df-18a45948-5d72-4112-8e6a-d3f9f011c6cf');\n",
              "          const dataTable =\n",
              "            await google.colab.kernel.invokeFunction('convertToInteractive',\n",
              "                                                     [key], {});\n",
              "          if (!dataTable) return;\n",
              "\n",
              "          const docLinkHtml = 'Like what you see? Visit the ' +\n",
              "            '<a target=\"_blank\" href=https://colab.research.google.com/notebooks/data_table.ipynb>data table notebook</a>'\n",
              "            + ' to learn more about interactive tables.';\n",
              "          element.innerHTML = '';\n",
              "          dataTable['output_type'] = 'display_data';\n",
              "          await google.colab.output.renderOutput(dataTable, element);\n",
              "          const docLink = document.createElement('div');\n",
              "          docLink.innerHTML = docLinkHtml;\n",
              "          element.appendChild(docLink);\n",
              "        }\n",
              "      </script>\n",
              "    </div>\n",
              "  </div>\n",
              "  "
            ]
          },
          "metadata": {},
          "execution_count": 34
        }
      ]
    },
    {
      "cell_type": "code",
      "source": [
        "df.info()\n"
      ],
      "metadata": {
        "colab": {
          "base_uri": "https://localhost:8080/"
        },
        "id": "Ff1FRr4UW09p",
        "outputId": "b77a4933-3621-443e-d501-f377bb2b4ff7"
      },
      "execution_count": 35,
      "outputs": [
        {
          "output_type": "stream",
          "name": "stdout",
          "text": [
            "<class 'pandas.core.frame.DataFrame'>\n",
            "RangeIndex: 218 entries, 0 to 217\n",
            "Data columns (total 19 columns):\n",
            " #   Column                             Non-Null Count  Dtype \n",
            "---  ------                             --------------  ----- \n",
            " 0   age                                218 non-null    object\n",
            " 1   gender                             218 non-null    object\n",
            " 2   district                           218 non-null    object\n",
            " 3   current education                  218 non-null    object\n",
            " 4   proposedstudy                      218 non-null    object\n",
            " 5   field_study                        218 non-null    object\n",
            " 6   wanting_consultation               218 non-null    object\n",
            " 7   where_guidance                     218 non-null    object\n",
            " 8   person_asked                       218 non-null    object\n",
            " 9   career_mentor                      218 non-null    object\n",
            " 10  most_inquiry                       218 non-null    object\n",
            " 11  where_study                        218 non-null    object\n",
            " 12  most_worried                       218 non-null    object\n",
            " 13  biggest_challenge                  218 non-null    object\n",
            " 14  exact_skills                       218 non-null    object\n",
            " 15  previousinternational_application  218 non-null    object\n",
            " 16  prefered_platfom                   218 non-null    object\n",
            " 17  setback_scholarships               218 non-null    object\n",
            " 18  reason_abroadstudy                 218 non-null    object\n",
            "dtypes: object(19)\n",
            "memory usage: 32.5+ KB\n"
          ]
        }
      ]
    },
    {
      "cell_type": "code",
      "source": [
        "import pandas as pd\n",
        "import matplotlib.pyplot as plt\n",
        "\n",
        "df = pd.read_excel(\"Career_Analysis.xlsx\")\n",
        "\n",
        "# Count the number of males and females\n",
        "gender_counts = df[\"gender\"].value_counts()\n",
        "\n",
        "# Plot a bar chart of the gender counts\n",
        "gender_counts = df[\"gender\"].value_counts()\n",
        "plt.bar(df[\"gender\"], gender_counts, color=\"blue\", width=0.5)\n",
        "plt.xlabel(\"Age\")\n",
        "plt.ylabel(\"Count\")\n",
        "plt.title(\"Gender Distribution by Age\")\n",
        "plt.show()\n"
      ],
      "metadata": {
        "colab": {
          "base_uri": "https://localhost:8080/",
          "height": 825
        },
        "id": "1AFvdtOiaDrn",
        "outputId": "4aff133c-cf0b-4361-d83c-a303448f26a2"
      },
      "execution_count": 39,
      "outputs": [
        {
          "output_type": "error",
          "ename": "ValueError",
          "evalue": "ignored",
          "traceback": [
            "\u001b[0;31m---------------------------------------------------------------------------\u001b[0m",
            "\u001b[0;31mValueError\u001b[0m                                Traceback (most recent call last)",
            "\u001b[0;32m<ipython-input-39-02b01adaeb13>\u001b[0m in \u001b[0;36m<cell line: 11>\u001b[0;34m()\u001b[0m\n\u001b[1;32m      9\u001b[0m \u001b[0;31m# Plot a bar chart of the gender counts\u001b[0m\u001b[0;34m\u001b[0m\u001b[0;34m\u001b[0m\u001b[0m\n\u001b[1;32m     10\u001b[0m \u001b[0mgender_counts\u001b[0m \u001b[0;34m=\u001b[0m \u001b[0mdf\u001b[0m\u001b[0;34m[\u001b[0m\u001b[0;34m\"gender\"\u001b[0m\u001b[0;34m]\u001b[0m\u001b[0;34m.\u001b[0m\u001b[0mvalue_counts\u001b[0m\u001b[0;34m(\u001b[0m\u001b[0;34m)\u001b[0m\u001b[0;34m\u001b[0m\u001b[0;34m\u001b[0m\u001b[0m\n\u001b[0;32m---> 11\u001b[0;31m \u001b[0mplt\u001b[0m\u001b[0;34m.\u001b[0m\u001b[0mbar\u001b[0m\u001b[0;34m(\u001b[0m\u001b[0mdf\u001b[0m\u001b[0;34m[\u001b[0m\u001b[0;34m\"gender\"\u001b[0m\u001b[0;34m]\u001b[0m\u001b[0;34m,\u001b[0m \u001b[0mgender_counts\u001b[0m\u001b[0;34m,\u001b[0m \u001b[0mcolor\u001b[0m\u001b[0;34m=\u001b[0m\u001b[0;34m\"blue\"\u001b[0m\u001b[0;34m,\u001b[0m \u001b[0mwidth\u001b[0m\u001b[0;34m=\u001b[0m\u001b[0;36m0.5\u001b[0m\u001b[0;34m)\u001b[0m\u001b[0;34m\u001b[0m\u001b[0;34m\u001b[0m\u001b[0m\n\u001b[0m\u001b[1;32m     12\u001b[0m \u001b[0mplt\u001b[0m\u001b[0;34m.\u001b[0m\u001b[0mxlabel\u001b[0m\u001b[0;34m(\u001b[0m\u001b[0;34m\"Age\"\u001b[0m\u001b[0;34m)\u001b[0m\u001b[0;34m\u001b[0m\u001b[0;34m\u001b[0m\u001b[0m\n\u001b[1;32m     13\u001b[0m \u001b[0mplt\u001b[0m\u001b[0;34m.\u001b[0m\u001b[0mylabel\u001b[0m\u001b[0;34m(\u001b[0m\u001b[0;34m\"Count\"\u001b[0m\u001b[0;34m)\u001b[0m\u001b[0;34m\u001b[0m\u001b[0;34m\u001b[0m\u001b[0m\n",
            "\u001b[0;32m/usr/local/lib/python3.10/dist-packages/matplotlib/pyplot.py\u001b[0m in \u001b[0;36mbar\u001b[0;34m(x, height, width, bottom, align, data, **kwargs)\u001b[0m\n\u001b[1;32m   2437\u001b[0m         \u001b[0mx\u001b[0m\u001b[0;34m,\u001b[0m \u001b[0mheight\u001b[0m\u001b[0;34m,\u001b[0m \u001b[0mwidth\u001b[0m\u001b[0;34m=\u001b[0m\u001b[0;36m0.8\u001b[0m\u001b[0;34m,\u001b[0m \u001b[0mbottom\u001b[0m\u001b[0;34m=\u001b[0m\u001b[0;32mNone\u001b[0m\u001b[0;34m,\u001b[0m \u001b[0;34m*\u001b[0m\u001b[0;34m,\u001b[0m \u001b[0malign\u001b[0m\u001b[0;34m=\u001b[0m\u001b[0;34m'center'\u001b[0m\u001b[0;34m,\u001b[0m\u001b[0;34m\u001b[0m\u001b[0;34m\u001b[0m\u001b[0m\n\u001b[1;32m   2438\u001b[0m         data=None, **kwargs):\n\u001b[0;32m-> 2439\u001b[0;31m     return gca().bar(\n\u001b[0m\u001b[1;32m   2440\u001b[0m         \u001b[0mx\u001b[0m\u001b[0;34m,\u001b[0m \u001b[0mheight\u001b[0m\u001b[0;34m,\u001b[0m \u001b[0mwidth\u001b[0m\u001b[0;34m=\u001b[0m\u001b[0mwidth\u001b[0m\u001b[0;34m,\u001b[0m \u001b[0mbottom\u001b[0m\u001b[0;34m=\u001b[0m\u001b[0mbottom\u001b[0m\u001b[0;34m,\u001b[0m \u001b[0malign\u001b[0m\u001b[0;34m=\u001b[0m\u001b[0malign\u001b[0m\u001b[0;34m,\u001b[0m\u001b[0;34m\u001b[0m\u001b[0;34m\u001b[0m\u001b[0m\n\u001b[1;32m   2441\u001b[0m         **({\"data\": data} if data is not None else {}), **kwargs)\n",
            "\u001b[0;32m/usr/local/lib/python3.10/dist-packages/matplotlib/__init__.py\u001b[0m in \u001b[0;36minner\u001b[0;34m(ax, data, *args, **kwargs)\u001b[0m\n\u001b[1;32m   1440\u001b[0m     \u001b[0;32mdef\u001b[0m \u001b[0minner\u001b[0m\u001b[0;34m(\u001b[0m\u001b[0max\u001b[0m\u001b[0;34m,\u001b[0m \u001b[0;34m*\u001b[0m\u001b[0margs\u001b[0m\u001b[0;34m,\u001b[0m \u001b[0mdata\u001b[0m\u001b[0;34m=\u001b[0m\u001b[0;32mNone\u001b[0m\u001b[0;34m,\u001b[0m \u001b[0;34m**\u001b[0m\u001b[0mkwargs\u001b[0m\u001b[0;34m)\u001b[0m\u001b[0;34m:\u001b[0m\u001b[0;34m\u001b[0m\u001b[0;34m\u001b[0m\u001b[0m\n\u001b[1;32m   1441\u001b[0m         \u001b[0;32mif\u001b[0m \u001b[0mdata\u001b[0m \u001b[0;32mis\u001b[0m \u001b[0;32mNone\u001b[0m\u001b[0;34m:\u001b[0m\u001b[0;34m\u001b[0m\u001b[0;34m\u001b[0m\u001b[0m\n\u001b[0;32m-> 1442\u001b[0;31m             \u001b[0;32mreturn\u001b[0m \u001b[0mfunc\u001b[0m\u001b[0;34m(\u001b[0m\u001b[0max\u001b[0m\u001b[0;34m,\u001b[0m \u001b[0;34m*\u001b[0m\u001b[0mmap\u001b[0m\u001b[0;34m(\u001b[0m\u001b[0msanitize_sequence\u001b[0m\u001b[0;34m,\u001b[0m \u001b[0margs\u001b[0m\u001b[0;34m)\u001b[0m\u001b[0;34m,\u001b[0m \u001b[0;34m**\u001b[0m\u001b[0mkwargs\u001b[0m\u001b[0;34m)\u001b[0m\u001b[0;34m\u001b[0m\u001b[0;34m\u001b[0m\u001b[0m\n\u001b[0m\u001b[1;32m   1443\u001b[0m \u001b[0;34m\u001b[0m\u001b[0m\n\u001b[1;32m   1444\u001b[0m         \u001b[0mbound\u001b[0m \u001b[0;34m=\u001b[0m \u001b[0mnew_sig\u001b[0m\u001b[0;34m.\u001b[0m\u001b[0mbind\u001b[0m\u001b[0;34m(\u001b[0m\u001b[0max\u001b[0m\u001b[0;34m,\u001b[0m \u001b[0;34m*\u001b[0m\u001b[0margs\u001b[0m\u001b[0;34m,\u001b[0m \u001b[0;34m**\u001b[0m\u001b[0mkwargs\u001b[0m\u001b[0;34m)\u001b[0m\u001b[0;34m\u001b[0m\u001b[0;34m\u001b[0m\u001b[0m\n",
            "\u001b[0;32m/usr/local/lib/python3.10/dist-packages/matplotlib/axes/_axes.py\u001b[0m in \u001b[0;36mbar\u001b[0;34m(self, x, height, width, bottom, align, **kwargs)\u001b[0m\n\u001b[1;32m   2415\u001b[0m                 \u001b[0myerr\u001b[0m \u001b[0;34m=\u001b[0m \u001b[0mself\u001b[0m\u001b[0;34m.\u001b[0m\u001b[0m_convert_dx\u001b[0m\u001b[0;34m(\u001b[0m\u001b[0myerr\u001b[0m\u001b[0;34m,\u001b[0m \u001b[0my0\u001b[0m\u001b[0;34m,\u001b[0m \u001b[0my\u001b[0m\u001b[0;34m,\u001b[0m \u001b[0mself\u001b[0m\u001b[0;34m.\u001b[0m\u001b[0mconvert_yunits\u001b[0m\u001b[0;34m)\u001b[0m\u001b[0;34m\u001b[0m\u001b[0;34m\u001b[0m\u001b[0m\n\u001b[1;32m   2416\u001b[0m \u001b[0;34m\u001b[0m\u001b[0m\n\u001b[0;32m-> 2417\u001b[0;31m         x, height, width, y, linewidth, hatch = np.broadcast_arrays(\n\u001b[0m\u001b[1;32m   2418\u001b[0m             \u001b[0;31m# Make args iterable too.\u001b[0m\u001b[0;34m\u001b[0m\u001b[0;34m\u001b[0m\u001b[0m\n\u001b[1;32m   2419\u001b[0m             np.atleast_1d(x), height, width, y, linewidth, hatch)\n",
            "\u001b[0;32m/usr/local/lib/python3.10/dist-packages/numpy/core/overrides.py\u001b[0m in \u001b[0;36mbroadcast_arrays\u001b[0;34m(*args, **kwargs)\u001b[0m\n",
            "\u001b[0;32m/usr/local/lib/python3.10/dist-packages/numpy/lib/stride_tricks.py\u001b[0m in \u001b[0;36mbroadcast_arrays\u001b[0;34m(subok, *args)\u001b[0m\n\u001b[1;32m    537\u001b[0m     \u001b[0margs\u001b[0m \u001b[0;34m=\u001b[0m \u001b[0;34m[\u001b[0m\u001b[0mnp\u001b[0m\u001b[0;34m.\u001b[0m\u001b[0marray\u001b[0m\u001b[0;34m(\u001b[0m\u001b[0m_m\u001b[0m\u001b[0;34m,\u001b[0m \u001b[0mcopy\u001b[0m\u001b[0;34m=\u001b[0m\u001b[0;32mFalse\u001b[0m\u001b[0;34m,\u001b[0m \u001b[0msubok\u001b[0m\u001b[0;34m=\u001b[0m\u001b[0msubok\u001b[0m\u001b[0;34m)\u001b[0m \u001b[0;32mfor\u001b[0m \u001b[0m_m\u001b[0m \u001b[0;32min\u001b[0m \u001b[0margs\u001b[0m\u001b[0;34m]\u001b[0m\u001b[0;34m\u001b[0m\u001b[0;34m\u001b[0m\u001b[0m\n\u001b[1;32m    538\u001b[0m \u001b[0;34m\u001b[0m\u001b[0m\n\u001b[0;32m--> 539\u001b[0;31m     \u001b[0mshape\u001b[0m \u001b[0;34m=\u001b[0m \u001b[0m_broadcast_shape\u001b[0m\u001b[0;34m(\u001b[0m\u001b[0;34m*\u001b[0m\u001b[0margs\u001b[0m\u001b[0;34m)\u001b[0m\u001b[0;34m\u001b[0m\u001b[0;34m\u001b[0m\u001b[0m\n\u001b[0m\u001b[1;32m    540\u001b[0m \u001b[0;34m\u001b[0m\u001b[0m\n\u001b[1;32m    541\u001b[0m     \u001b[0;32mif\u001b[0m \u001b[0mall\u001b[0m\u001b[0;34m(\u001b[0m\u001b[0marray\u001b[0m\u001b[0;34m.\u001b[0m\u001b[0mshape\u001b[0m \u001b[0;34m==\u001b[0m \u001b[0mshape\u001b[0m \u001b[0;32mfor\u001b[0m \u001b[0marray\u001b[0m \u001b[0;32min\u001b[0m \u001b[0margs\u001b[0m\u001b[0;34m)\u001b[0m\u001b[0;34m:\u001b[0m\u001b[0;34m\u001b[0m\u001b[0;34m\u001b[0m\u001b[0m\n",
            "\u001b[0;32m/usr/local/lib/python3.10/dist-packages/numpy/lib/stride_tricks.py\u001b[0m in \u001b[0;36m_broadcast_shape\u001b[0;34m(*args)\u001b[0m\n\u001b[1;32m    419\u001b[0m     \u001b[0;31m# use the old-iterator because np.nditer does not handle size 0 arrays\u001b[0m\u001b[0;34m\u001b[0m\u001b[0;34m\u001b[0m\u001b[0m\n\u001b[1;32m    420\u001b[0m     \u001b[0;31m# consistently\u001b[0m\u001b[0;34m\u001b[0m\u001b[0;34m\u001b[0m\u001b[0m\n\u001b[0;32m--> 421\u001b[0;31m     \u001b[0mb\u001b[0m \u001b[0;34m=\u001b[0m \u001b[0mnp\u001b[0m\u001b[0;34m.\u001b[0m\u001b[0mbroadcast\u001b[0m\u001b[0;34m(\u001b[0m\u001b[0;34m*\u001b[0m\u001b[0margs\u001b[0m\u001b[0;34m[\u001b[0m\u001b[0;34m:\u001b[0m\u001b[0;36m32\u001b[0m\u001b[0;34m]\u001b[0m\u001b[0;34m)\u001b[0m\u001b[0;34m\u001b[0m\u001b[0;34m\u001b[0m\u001b[0m\n\u001b[0m\u001b[1;32m    422\u001b[0m     \u001b[0;31m# unfortunately, it cannot handle 32 or more arguments directly\u001b[0m\u001b[0;34m\u001b[0m\u001b[0;34m\u001b[0m\u001b[0m\n\u001b[1;32m    423\u001b[0m     \u001b[0;32mfor\u001b[0m \u001b[0mpos\u001b[0m \u001b[0;32min\u001b[0m \u001b[0mrange\u001b[0m\u001b[0;34m(\u001b[0m\u001b[0;36m32\u001b[0m\u001b[0;34m,\u001b[0m \u001b[0mlen\u001b[0m\u001b[0;34m(\u001b[0m\u001b[0margs\u001b[0m\u001b[0;34m)\u001b[0m\u001b[0;34m,\u001b[0m \u001b[0;36m31\u001b[0m\u001b[0;34m)\u001b[0m\u001b[0;34m:\u001b[0m\u001b[0;34m\u001b[0m\u001b[0;34m\u001b[0m\u001b[0m\n",
            "\u001b[0;31mValueError\u001b[0m: shape mismatch: objects cannot be broadcast to a single shape.  Mismatch is between arg 0 with shape (218,) and arg 1 with shape (2,)."
          ]
        },
        {
          "output_type": "display_data",
          "data": {
            "text/plain": [
              "<Figure size 640x480 with 1 Axes>"
            ],
            "image/png": "[encoded data removed]"
          },
          "metadata": {}
        }
      ]
    }
  ]
}