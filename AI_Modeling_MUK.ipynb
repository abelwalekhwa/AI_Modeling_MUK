{
  "nbformat": 4,
  "nbformat_minor": 0,
  "metadata": {
    "colab": {
      "provenance": [],
      "authorship_tag": "ABX9TyORb/5Y9kfUV7EpIq5JWpmj",
      "include_colab_link": true
    },
    "kernelspec": {
      "name": "python3",
      "display_name": "Python 3"
    },
    "language_info": {
      "name": "python"
    }
  },
  "cells": [
    {
      "cell_type": "markdown",
      "metadata": {
        "id": "view-in-github",
        "colab_type": "text"
      },
      "source": [
        "<a href=\"https://colab.research.google.com/github/abelwalekhwa/AI_Modeling_MUK/blob/main/AI_Modeling_MUK.ipynb\" target=\"_parent\"><img src=\"https://colab.research.google.com/assets/colab-badge.svg\" alt=\"Open In Colab\"/></a>"
      ]
    },
    {
      "cell_type": "code",
      "execution_count": null,
      "metadata": {
        "id": "qk7GQNEwv_Yc"
      },
      "outputs": [],
      "source": [
        "# Testing the codes\n",
        "# importing math library\n",
        "import math \n",
        "\n",
        "# defining functions\n",
        "def calculate_area(shape):\n",
        "  if shape == 'S':\n",
        "    return calculate_square_area()\n",
        "  elif shape == 'R':\n",
        "    return calculate_rectangle_area()\n",
        "  elif shape == 'C':\n",
        "    return calculate_circle_area()\n",
        "  else:\n",
        "    return None\n",
        "\n",
        "# calculating the areas of the shapes\n",
        "\n",
        "def calculate_square_area():\n",
        "  side = float(input(\"Enter the length of the side: \"))\n",
        "  return side * side \n",
        "\n",
        "def calculate_rectangle_area():\n",
        "  length = float(input(\"Enter the length of the rectangle: \"))\n",
        "  width = float(input(\"Enter the width of the rectangle: \"))\n",
        "  return length * width\n",
        "\n",
        "def calculate_circle_area():\n",
        "  radius = float(input(\"Enter the radius of the circle: \"))\n",
        "  return math.pi * radius ** 2\n",
        "\n",
        "# getting the shape name \n",
        "def get_shape_name(tag):\n",
        "  if tag == 'S':\n",
        "    return \"Square\"\n",
        "  elif tag == 'R':\n",
        "    return \"Rectangle\"\n",
        "  elif tag == 'C':\n",
        "    return \"Circle\"\n",
        "  else:\n",
        "    return None\n",
        "\n",
        "# This program calculates the area of different shapes\n",
        "\n",
        "print(\"Welcome to the Shape Area Calculator!\")\n",
        "print(\"Please select a shape:\")\n",
        "print(\"S. Square\")\n",
        "print(\"R. Rectangle\")\n",
        "print(\"C. Circle\")\n",
        "\n",
        "# Prompt the user to choose a shape\n",
        "shape = input(\"Choose a shape ('S' for square, 'R' for rectangle, 'C' for circle): \")\n",
        "\n",
        "if shape not in ['S', 'R', 'C']:\n",
        "    print(\"Invalid choice. Please select a shape from S, R, C.\")\n",
        "else:\n",
        "    shape_name = get_shape_name(shape)\n",
        "    area = calculate_area(shape)\n",
        "    print(f\"The area of the {shape_name} is: {area}\")"
      ]
    }
  ]
}